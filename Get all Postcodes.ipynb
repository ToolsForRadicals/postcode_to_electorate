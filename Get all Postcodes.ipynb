{
 "cells": [
  {
   "cell_type": "code",
   "execution_count": 1,
   "metadata": {},
   "outputs": [],
   "source": [
    "import pandas as pd\n",
    "import requests"
   ]
  },
  {
   "cell_type": "code",
   "execution_count": 2,
   "metadata": {},
   "outputs": [],
   "source": [
    "frame = pd.read_csv('australian_postcodes.csv')"
   ]
  },
  {
   "cell_type": "code",
   "execution_count": 3,
   "metadata": {},
   "outputs": [],
   "source": [
    "apikey = 'ASdfqKDUJuydFHTMUCGjY9QS'"
   ]
  },
  {
   "cell_type": "code",
   "execution_count": 4,
   "metadata": {},
   "outputs": [],
   "source": [
    "from multiprocessing.dummy import Pool\n",
    "pool = Pool(8)"
   ]
  },
  {
   "cell_type": "code",
   "execution_count": 48,
   "metadata": {},
   "outputs": [],
   "source": [
    "def getelectorates(postcode):\n",
    "    print(postcode)\n",
    "    pair = dict()\n",
    "    pair['postcode'] = postcode\n",
    "    pair['electorates'] = \"\"\n",
    "    url = \"http://www.openaustralia.org/api/getDivisions?postcode={}&key={}\".format(postcode,apikey)\n",
    "    api_result = requests.get(url)\n",
    "    if 'error' not in str(api_result.content):\n",
    "        json_result = api_result.json()\n",
    "        if len(json_result) == 1:\n",
    "            pair['electorates'] = json_result[0]['name']\n",
    "            return pair\n",
    "        else:\n",
    "            pair['electorates'] = [result['name'] for result in json_result]\n",
    "    return pair"
   ]
  },
  {
   "cell_type": "code",
   "execution_count": 53,
   "metadata": {},
   "outputs": [],
   "source": [
    "postcodes = list(set(frame['postcode']))"
   ]
  },
  {
   "cell_type": "code",
   "execution_count": 63,
   "metadata": {},
   "outputs": [],
   "source": [
    "shortcodes = [code for code in postcodes if 2000 <= code <= 8000]"
   ]
  },
  {
   "cell_type": "code",
   "execution_count": null,
   "metadata": {},
   "outputs": [],
   "source": [
    "electorates = pool.map(getelectorates,shortcodes)"
   ]
  },
  {
   "cell_type": "code",
   "execution_count": null,
   "metadata": {},
   "outputs": [],
   "source": []
  }
 ],
 "metadata": {
  "anaconda-cloud": {},
  "kernelspec": {
   "display_name": "Python [conda root]",
   "language": "python",
   "name": "conda-root-py"
  },
  "language_info": {
   "codemirror_mode": {
    "name": "ipython",
    "version": 3
   },
   "file_extension": ".py",
   "mimetype": "text/x-python",
   "name": "python",
   "nbconvert_exporter": "python",
   "pygments_lexer": "ipython3",
   "version": "3.5.2"
  }
 },
 "nbformat": 4,
 "nbformat_minor": 2
}
